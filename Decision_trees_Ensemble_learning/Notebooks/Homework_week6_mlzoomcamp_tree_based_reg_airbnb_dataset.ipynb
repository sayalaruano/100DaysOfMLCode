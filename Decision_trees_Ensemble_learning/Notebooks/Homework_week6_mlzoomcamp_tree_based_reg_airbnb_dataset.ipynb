{
 "cells": [
  {
   "cell_type": "markdown",
   "metadata": {},
   "source": [
    "## 6.10 Homework\n",
    "\n",
    "The goal of this homework is to create a tree-based regression model for prediction apartment prices (column `'price'`).\n",
    "\n",
    "In this homework we'll again use the New York City Airbnb Open Data dataset - the same one we used in homework 2 and 3.\n",
    "\n",
    "You can take it from [Kaggle](https://www.kaggle.com/dgomonov/new-york-city-airbnb-open-data?select=AB_NYC_2019.csv)\n",
    "or download from [here](https://raw.githubusercontent.com/alexeygrigorev/datasets/master/AB_NYC_2019.csv)\n",
    "if you don't want to sign up to Kaggle.\n",
    "\n",
    "Let's load the data:"
   ]
  },
  {
   "cell_type": "code",
   "execution_count": 57,
   "metadata": {},
   "outputs": [],
   "source": [
    "import pandas as pd\n",
    "import numpy as np\n",
    "\n",
    "import matplotlib.pyplot as plt\n",
    "import seaborn as sns\n",
    "\n",
    "%matplotlib inline\n",
    "\n",
    "from sklearn.model_selection import train_test_split\n",
    "from sklearn.metrics import roc_auc_score\n",
    "from sklearn.feature_extraction import DictVectorizer\n",
    "from sklearn.tree import DecisionTreeRegressor\n",
    "from sklearn.ensemble import RandomForestRegressor\n",
    "from sklearn.tree import export_text\n",
    "\n",
    "import xgboost as xgb\n"
   ]
  },
  {
   "cell_type": "code",
   "execution_count": 2,
   "metadata": {},
   "outputs": [],
   "source": [
    "columns = [\n",
    "    'neighbourhood_group', 'room_type', 'latitude', 'longitude',\n",
    "    'minimum_nights', 'number_of_reviews','reviews_per_month',\n",
    "    'calculated_host_listings_count', 'availability_365',\n",
    "    'price'\n",
    "]\n",
    "\n",
    "df = pd.read_csv('../Data/New_York_City_Airbnb_Open_Data.csv', usecols=columns)\n",
    "df.reviews_per_month = df.reviews_per_month.fillna(0)"
   ]
  },
  {
   "cell_type": "markdown",
   "metadata": {},
   "source": [
    "* Apply the log tranform to `price`\n",
    "* Do train/validation/test split with 60%/20%/20% distribution. \n",
    "* Use the `train_test_split` function and set the `random_state` parameter to 1"
   ]
  },
  {
   "cell_type": "code",
   "execution_count": 5,
   "metadata": {},
   "outputs": [],
   "source": [
    "# Create test and full training partitions \n",
    "df_train_full, df_test = train_test_split(df, test_size=0.2, random_state=1)"
   ]
  },
  {
   "cell_type": "code",
   "execution_count": 6,
   "metadata": {},
   "outputs": [],
   "source": [
    "# Create train and validation partitions \n",
    "df_train, df_val = train_test_split(df_train_full, test_size=0.25, random_state=1)"
   ]
  },
  {
   "cell_type": "code",
   "execution_count": 7,
   "metadata": {},
   "outputs": [
    {
     "data": {
      "text/plain": [
       "(29337, 9779, 9779)"
      ]
     },
     "execution_count": 7,
     "metadata": {},
     "output_type": "execute_result"
    }
   ],
   "source": [
    "# Verify the lenght of partitions \n",
    "len(df_train), len(df_val), len(df_test)"
   ]
  },
  {
   "cell_type": "code",
   "execution_count": 9,
   "metadata": {},
   "outputs": [],
   "source": [
    "# Reset indices of all partitions \n",
    "df_train = df_train.reset_index(drop=True)\n",
    "df_val = df_val.reset_index(drop=True)\n",
    "df_test = df_test.reset_index(drop=True)\n",
    "df_train_full = df_train_full.reset_index(drop=True)"
   ]
  },
  {
   "cell_type": "code",
   "execution_count": 11,
   "metadata": {},
   "outputs": [],
   "source": [
    "# Extract target variable of all partitions \n",
    "y_train = np.log1p(df_train.price.values)\n",
    "y_val = np.log1p(df_val.price.values)\n",
    "y_test = np.log1p(df_test.price.values)"
   ]
  },
  {
   "cell_type": "code",
   "execution_count": 12,
   "metadata": {},
   "outputs": [],
   "source": [
    "# Delete target variable for all partitions \n",
    "del df_train['price']\n",
    "del df_val['price']\n",
    "del df_test['price']"
   ]
  },
  {
   "cell_type": "markdown",
   "metadata": {},
   "source": [
    "Now, use `DictVectorizer` to turn train and validation into matrices:"
   ]
  },
  {
   "cell_type": "code",
   "execution_count": 13,
   "metadata": {},
   "outputs": [],
   "source": [
    "# Create dictionaries of training data to apply one-hot enconding on categorical features \n",
    "train_dict = df_train.to_dict(orient='records')"
   ]
  },
  {
   "cell_type": "code",
   "execution_count": 14,
   "metadata": {},
   "outputs": [],
   "source": [
    "# Create feature matrix with numerical and one-hot encoded categorical variables\n",
    "dv = DictVectorizer()\n",
    "X_train = dv.fit_transform(train_dict)"
   ]
  },
  {
   "cell_type": "code",
   "execution_count": 15,
   "metadata": {},
   "outputs": [],
   "source": [
    "# Create feature matrix of validation partition \n",
    "val_dict = df_val.to_dict(orient='records')\n",
    "X_val = dv.fit_transform(val_dict)"
   ]
  },
  {
   "cell_type": "markdown",
   "metadata": {},
   "source": [
    "## Question 1\n",
    "\n",
    "Let's train a decision tree regressor to predict the price variable. \n",
    "\n",
    "* Train a model with `max_depth=1`"
   ]
  },
  {
   "cell_type": "code",
   "execution_count": 19,
   "metadata": {},
   "outputs": [
    {
     "name": "stdout",
     "output_type": "stream",
     "text": [
      "|--- room_type=Entire home/apt <= 0.50\n",
      "|   |--- value: [4.29]\n",
      "|--- room_type=Entire home/apt >  0.50\n",
      "|   |--- value: [5.15]\n",
      "\n"
     ]
    }
   ],
   "source": [
    "dtreg = DecisionTreeRegressor(max_depth=1).fit(X_train, y_train)\n",
    "\n",
    "print(export_text(dtreg, feature_names=dv.get_feature_names()))"
   ]
  },
  {
   "cell_type": "markdown",
   "metadata": {},
   "source": [
    "Which feature is used for splitting the data?\n",
    "\n",
    "* **`room_type`**\n",
    "* `neighbourhood_group`\n",
    "* `number_of_reviews`\n",
    "* `reviews_per_month`\n",
    "\n",
    "**Answer:** room_type was the feature used for splitting data "
   ]
  },
  {
   "cell_type": "markdown",
   "metadata": {},
   "source": [
    "## Question 2\n",
    "\n",
    "Train a random forest model with these parameters:\n",
    "\n",
    "* `n_estimators=10`\n",
    "* `random_state=1`\n",
    "* `n_jobs=-1`  (optional - to make training faster)"
   ]
  },
  {
   "cell_type": "code",
   "execution_count": 21,
   "metadata": {},
   "outputs": [],
   "source": [
    "def rmse(y, y_pred):\n",
    "    error = y_pred - y\n",
    "    mse = (error ** 2).mean()\n",
    "    return np.sqrt(mse)"
   ]
  },
  {
   "cell_type": "code",
   "execution_count": 28,
   "metadata": {},
   "outputs": [
    {
     "name": "stdout",
     "output_type": "stream",
     "text": [
      "RMSE RF regressor: 0.461\n"
     ]
    }
   ],
   "source": [
    "rfreg = RandomForestRegressor(n_estimators=10, random_state=1, n_jobs=-1).fit(X_train, y_train)\n",
    "\n",
    "y_pred = rfreg.predict(X_val)\n",
    "\n",
    "print(f'RMSE RF regressor: {round(rmse(y_val, y_pred), 3)}')"
   ]
  },
  {
   "cell_type": "markdown",
   "metadata": {},
   "source": [
    "What's the RMSE of this model on validation?\n",
    "\n",
    "* 0.059\n",
    "* 0.259\n",
    "* **0.459**\n",
    "* 0.659\n",
    "\n",
    "**Answer:** The RMSE of this model is 0.459"
   ]
  },
  {
   "cell_type": "markdown",
   "metadata": {},
   "source": [
    "## Question 3\n",
    "\n",
    "Now let's experiment with the `n_estimators` parameter\n",
    "\n",
    "* Try different values of this parameter from 10 to 200 with step 10\n",
    "* Set `random_state` to `1`\n",
    "* Evaluate the model on the validation dataset"
   ]
  },
  {
   "cell_type": "code",
   "execution_count": 30,
   "metadata": {},
   "outputs": [],
   "source": [
    "scores = []\n",
    "\n",
    "for n in range(10, 201, 10):\n",
    "    rfreg = RandomForestRegressor(n_estimators=n, random_state=1, n_jobs=-1).fit(X_train, y_train)\n",
    "\n",
    "    y_pred = rfreg.predict(X_val)\n",
    "    rmse_temp = round(rmse(y_val, y_pred), 3)\n",
    "    \n",
    "    scores.append((n, rmse_temp))"
   ]
  },
  {
   "cell_type": "code",
   "execution_count": 31,
   "metadata": {},
   "outputs": [
    {
     "data": {
      "text/plain": [
       "[<matplotlib.lines.Line2D at 0x7fa16a9df640>]"
      ]
     },
     "execution_count": 31,
     "metadata": {},
     "output_type": "execute_result"
    },
    {
     "data": {
      "image/png": "[encoded data removed]",
      "text/plain": [
       "<Figure size 432x288 with 1 Axes>"
      ]
     },
     "metadata": {
      "needs_background": "light"
     },
     "output_type": "display_data"
    }
   ],
   "source": [
    "df_scores = pd.DataFrame(scores, columns=['n_estimators', 'rmse'])\n",
    "\n",
    "plt.plot(df_scores.n_estimators, df_scores.rmse)"
   ]
  },
  {
   "cell_type": "markdown",
   "metadata": {},
   "source": [
    "After which value of `n_estimators` does RMSE stop improving?\n",
    "\n",
    "- 10\n",
    "- 50\n",
    "- 70\n",
    "- **120**\n",
    "\n",
    "**Answer:** The RMSE stopped to improve at n_stimators value of 120"
   ]
  },
  {
   "cell_type": "markdown",
   "metadata": {},
   "source": [
    "## Question 4\n",
    "\n",
    "Let's select the best `max_depth`:\n",
    "\n",
    "* Try different values of `max_depth`: `[10, 15, 20, 25]`\n",
    "* For each of these values, try different values of `n_estimators` from 10 till 200 (with step 10)\n",
    "* Fix the random seed: `random_state=1`"
   ]
  },
  {
   "cell_type": "code",
   "execution_count": 35,
   "metadata": {},
   "outputs": [],
   "source": [
    "scores2 = []\n",
    "\n",
    "for d in [10, 15, 20, 25]:\n",
    "    for n in range(10, 201, 10):\n",
    "        rfreg = RandomForestRegressor(n_estimators=n, random_state=1,max_depth=d, n_jobs=-1).fit(X_train, y_train)\n",
    "\n",
    "        y_pred = rfreg.predict(X_val)\n",
    "        rmse_temp = round(rmse(y_val, y_pred), 3)\n",
    "        \n",
    "        scores2.append((d, n, rmse_temp))"
   ]
  },
  {
   "cell_type": "code",
   "execution_count": 36,
   "metadata": {},
   "outputs": [
    {
     "data": {
      "text/plain": [
       "<matplotlib.legend.Legend at 0x7fa16ba3aa00>"
      ]
     },
     "execution_count": 36,
     "metadata": {},
     "output_type": "execute_result"
    },
    {
     "data": {
      "image/png": "[encoded data removed]",
      "text/plain": [
       "<Figure size 432x288 with 1 Axes>"
      ]
     },
     "metadata": {
      "needs_background": "light"
     },
     "output_type": "display_data"
    }
   ],
   "source": [
    "columns = ['max_depth', 'n_estimators', 'rmse']\n",
    "df_scores2 = pd.DataFrame(scores2, columns=columns)\n",
    "\n",
    "for d in [10, 15, 20, 25]:\n",
    "    df_subset = df_scores2[df_scores2.max_depth == d]\n",
    "    \n",
    "    plt.plot(df_subset.n_estimators, df_subset.rmse,\n",
    "             label='max_depth=%d' % d)\n",
    "\n",
    "plt.legend()"
   ]
  },
  {
   "cell_type": "markdown",
   "metadata": {},
   "source": [
    "What's the best `max_depth`:\n",
    "\n",
    "* 10\n",
    "* **15**\n",
    "* 20\n",
    "* 25\n",
    "\n",
    "**Answer:** The best max_depth is 15\n",
    "\n",
    "Bonus question (not graded):\n",
    "\n",
    "Will the answer be different if we change the seed for the model?"
   ]
  },
  {
   "cell_type": "markdown",
   "metadata": {},
   "source": [
    "## Question 5\n",
    "\n",
    "We can extract feature importance information from tree-based models. \n",
    "\n",
    "At each step of the decision tree learning algorith, it finds the best split. \n",
    "When doint it, we can calculate \"gain\" - the reduction in impurity before and after the split. \n",
    "This gain is quite useful in understanding what are the imporatant features \n",
    "for tree-based models.\n",
    "\n",
    "In Scikit-Learn, tree-based models contain this information in the `feature_importances_` field. \n",
    "\n",
    "For this homework question, we'll find the most important feature:\n",
    "\n",
    "* Train the model with these parametes:\n",
    "    * `n_estimators=10`,\n",
    "    * `max_depth=20`,\n",
    "    * `random_state=1`,\n",
    "    * `n_jobs=-1` (optional)\n",
    "* Get the feature importance information from this model"
   ]
  },
  {
   "cell_type": "code",
   "execution_count": 52,
   "metadata": {},
   "outputs": [],
   "source": [
    "feature_names = [f'feature {i}' for i in range(X_train.shape[1])]\n",
    "rfreg2 = RandomForestRegressor(n_estimators=10, random_state=1, max_depth=20, n_jobs=-1).fit(X_train, y_train)"
   ]
  },
  {
   "cell_type": "code",
   "execution_count": 55,
   "metadata": {},
   "outputs": [
    {
     "data": {
      "image/png": "[encoded data removed]",
      "text/plain": [
       "<Figure size 432x288 with 1 Axes>"
      ]
     },
     "metadata": {
      "needs_background": "light"
     },
     "output_type": "display_data"
    }
   ],
   "source": [
    "importances = rfreg2.feature_importances_\n",
    "\n",
    "std = np.std([\n",
    "    tree.feature_importances_ for tree in rfreg2.estimators_], axis=0)\n",
    "\n",
    "rfreg2_importances = pd.Series(importances, index=feature_names)\n",
    "\n",
    "fig, ax = plt.subplots()\n",
    "rfreg2_importances.plot.bar(yerr=std, ax=ax)\n",
    "ax.set_title(\"Feature importances using MDI\")\n",
    "ax.set_ylabel(\"Mean decrease in impurity\")\n",
    "fig.tight_layout()\n"
   ]
  },
  {
   "cell_type": "code",
   "execution_count": 56,
   "metadata": {},
   "outputs": [
    {
     "data": {
      "text/plain": [
       "['availability_365',\n",
       " 'calculated_host_listings_count',\n",
       " 'latitude',\n",
       " 'longitude',\n",
       " 'minimum_nights',\n",
       " 'neighbourhood_group=Bronx',\n",
       " 'neighbourhood_group=Brooklyn',\n",
       " 'neighbourhood_group=Manhattan',\n",
       " 'neighbourhood_group=Queens',\n",
       " 'neighbourhood_group=Staten Island',\n",
       " 'number_of_reviews',\n",
       " 'reviews_per_month',\n",
       " 'room_type=Entire home/apt',\n",
       " 'room_type=Private room',\n",
       " 'room_type=Shared room']"
      ]
     },
     "execution_count": 56,
     "metadata": {},
     "output_type": "execute_result"
    }
   ],
   "source": [
    "dv.feature_names_"
   ]
  },
  {
   "cell_type": "markdown",
   "metadata": {},
   "source": [
    "What's the most important feature? \n",
    "\n",
    "* `neighbourhood_group=Manhattan`\n",
    "* **`room_type=Entire home/apt`**\t\n",
    "* `longitude`\n",
    "* `latitude`\n",
    "\n",
    "**Answer:** The most important feature is room_type=Entire home/apt"
   ]
  },
  {
   "cell_type": "markdown",
   "metadata": {},
   "source": [
    "## Question 6"
   ]
  },
  {
   "cell_type": "markdown",
   "metadata": {},
   "source": [
    "Now let's train an XGBoost model! For this question, we'll tune the `eta` parameter\n",
    "\n",
    "* Install XGBoost\n",
    "* Create DMatrix for train and validation\n",
    "* Create a watchlist\n",
    "* Train a model with these parameters for 100 rounds:\n",
    "\n",
    "```\n",
    "xgb_params = {\n",
    "    'eta': 0.3, \n",
    "    'max_depth': 6,\n",
    "    'min_child_weight': 1,\n",
    "    \n",
    "    'objective': 'reg:squarederror',\n",
    "    'nthread': 8,\n",
    "    \n",
    "    'seed': 1,\n",
    "    'verbosity': 1,\n",
    "}\n",
    "```"
   ]
  },
  {
   "cell_type": "code",
   "execution_count": 85,
   "metadata": {},
   "outputs": [],
   "source": [
    "def parse_xgb_output(output):\n",
    "    results = []\n",
    "\n",
    "    for line in output.stdout.strip().split('\\n'):\n",
    "        it_line, train_line, val_line = line.split('\\t')\n",
    "\n",
    "        it = int(it_line.strip('[]'))\n",
    "        train = float(train_line.split(':')[1])\n",
    "        val = float(val_line.split(':')[1])\n",
    "\n",
    "        results.append((it, train, val))\n",
    "    \n",
    "    columns = ['num_iter', 'train_rmse', 'val_rmse']\n",
    "    df_results = pd.DataFrame(results, columns=columns)\n",
    "    return df_results"
   ]
  },
  {
   "cell_type": "code",
   "execution_count": 58,
   "metadata": {},
   "outputs": [],
   "source": [
    "# Create DMatrices\n",
    "features = dv.get_feature_names()\n",
    "dtrain = xgb.DMatrix(X_train, label=y_train, feature_names=features)\n",
    "dval = xgb.DMatrix(X_val, label=y_val, feature_names=features)"
   ]
  },
  {
   "cell_type": "code",
   "execution_count": 59,
   "metadata": {},
   "outputs": [],
   "source": [
    "# Create a watchlist\n",
    "watchlist = [(dtrain, 'train'), (dval, 'val')]"
   ]
  },
  {
   "cell_type": "code",
   "execution_count": 86,
   "metadata": {},
   "outputs": [],
   "source": [
    "# Empty dictionary to storage scores\n",
    "scores = {}"
   ]
  },
  {
   "cell_type": "code",
   "execution_count": 87,
   "metadata": {},
   "outputs": [],
   "source": [
    "%%capture output\n",
    "\n",
    "xgb_params = {\n",
    "    'eta': 0.3, \n",
    "    'max_depth': 6,\n",
    "    'min_child_weight': 1,\n",
    "    \n",
    "    'objective': 'reg:squarederror',\n",
    "    'nthread': 8,\n",
    "    \n",
    "    'seed': 1,\n",
    "    'verbosity': 1,\n",
    "}\n",
    "\n",
    "xbg_model = xgb.train(xgb_params, dtrain, num_boost_round=100,\n",
    "                  verbose_eval=5,\n",
    "                  evals=watchlist)"
   ]
  },
  {
   "cell_type": "code",
   "execution_count": 88,
   "metadata": {},
   "outputs": [
    {
     "data": {
      "text/plain": [
       "{'eta=0.3':     num_iter  train_rmse  val_rmse\n",
       " 0          0     3.02752   3.02415\n",
       " 1          5     0.67490   0.67752\n",
       " 2         10     0.43912   0.44981\n",
       " 3         15     0.42259   0.43827\n",
       " 4         20     0.41716   0.43691\n",
       " 5         25     0.41365   0.43621\n",
       " 6         30     0.40712   0.43543\n",
       " 7         35     0.40444   0.43510\n",
       " 8         40     0.40103   0.43466\n",
       " 9         45     0.39723   0.43371\n",
       " 10        50     0.39446   0.43384\n",
       " 11        55     0.39129   0.43378\n",
       " 12        60     0.38743   0.43404\n",
       " 13        65     0.38421   0.43450\n",
       " 14        70     0.38117   0.43467\n",
       " 15        75     0.37801   0.43489\n",
       " 16        80     0.37668   0.43526\n",
       " 17        85     0.37259   0.43537\n",
       " 18        90     0.36998   0.43539\n",
       " 19        95     0.36742   0.43579\n",
       " 20        99     0.36478   0.43621}"
      ]
     },
     "execution_count": 88,
     "metadata": {},
     "output_type": "execute_result"
    }
   ],
   "source": [
    "key = 'eta=%s' % (xgb_params['eta'])\n",
    "scores[key] = parse_xgb_output(output)\n",
    "scores"
   ]
  },
  {
   "cell_type": "markdown",
   "metadata": {},
   "source": [
    "Now change `eta` first to `0.1` and then to `0.01`"
   ]
  },
  {
   "cell_type": "code",
   "execution_count": 89,
   "metadata": {},
   "outputs": [],
   "source": [
    "%%capture output\n",
    "\n",
    "xgb_params = {\n",
    "    'eta': 0.1, \n",
    "    'max_depth': 6,\n",
    "    'min_child_weight': 1,\n",
    "    \n",
    "    'objective': 'reg:squarederror',\n",
    "    'nthread': 8,\n",
    "    \n",
    "    'seed': 1,\n",
    "    'verbosity': 1,\n",
    "}\n",
    "\n",
    "xbg_model_eta_01 = xgb.train(xgb_params, dtrain, num_boost_round=100,\n",
    "                  verbose_eval=5,\n",
    "                  evals=watchlist)"
   ]
  },
  {
   "cell_type": "code",
   "execution_count": 90,
   "metadata": {},
   "outputs": [
    {
     "data": {
      "text/plain": [
       "{'eta=0.3':     num_iter  train_rmse  val_rmse\n",
       " 0          0     3.02752   3.02415\n",
       " 1          5     0.67490   0.67752\n",
       " 2         10     0.43912   0.44981\n",
       " 3         15     0.42259   0.43827\n",
       " 4         20     0.41716   0.43691\n",
       " 5         25     0.41365   0.43621\n",
       " 6         30     0.40712   0.43543\n",
       " 7         35     0.40444   0.43510\n",
       " 8         40     0.40103   0.43466\n",
       " 9         45     0.39723   0.43371\n",
       " 10        50     0.39446   0.43384\n",
       " 11        55     0.39129   0.43378\n",
       " 12        60     0.38743   0.43404\n",
       " 13        65     0.38421   0.43450\n",
       " 14        70     0.38117   0.43467\n",
       " 15        75     0.37801   0.43489\n",
       " 16        80     0.37668   0.43526\n",
       " 17        85     0.37259   0.43537\n",
       " 18        90     0.36998   0.43539\n",
       " 19        95     0.36742   0.43579\n",
       " 20        99     0.36478   0.43621,\n",
       " 'eta=0.1':     num_iter  train_rmse  val_rmse\n",
       " 0          0     3.87217   3.86889\n",
       " 1          5     2.31905   2.31692\n",
       " 2         10     1.41910   1.41786\n",
       " 3         15     0.91299   0.91348\n",
       " 4         20     0.64528   0.64883\n",
       " 5         25     0.51733   0.52364\n",
       " 6         30     0.46186   0.47101\n",
       " 7         35     0.43843   0.44997\n",
       " 8         40     0.42770   0.44150\n",
       " 9         45     0.42222   0.43795\n",
       " 10        50     0.41868   0.43589\n",
       " 11        55     0.41644   0.43515\n",
       " 12        60     0.41432   0.43460\n",
       " 13        65     0.41226   0.43400\n",
       " 14        70     0.41059   0.43361\n",
       " 15        75     0.40876   0.43336\n",
       " 16        80     0.40747   0.43306\n",
       " 17        85     0.40626   0.43299\n",
       " 18        90     0.40478   0.43280\n",
       " 19        95     0.40406   0.43272\n",
       " 20        99     0.40277   0.43250}"
      ]
     },
     "execution_count": 90,
     "metadata": {},
     "output_type": "execute_result"
    }
   ],
   "source": [
    "key = 'eta=%s' % (xgb_params['eta'])\n",
    "scores[key] = parse_xgb_output(output)\n",
    "scores"
   ]
  },
  {
   "cell_type": "code",
   "execution_count": 91,
   "metadata": {},
   "outputs": [],
   "source": [
    "%%capture output\n",
    "\n",
    "xgb_params = {\n",
    "    'eta': 0.01, \n",
    "    'max_depth': 6,\n",
    "    'min_child_weight': 1,\n",
    "    \n",
    "    'objective': 'reg:squarederror',\n",
    "    'nthread': 8,\n",
    "    \n",
    "    'seed': 1,\n",
    "    'verbosity': 1,\n",
    "}\n",
    "\n",
    "xbg_model_eta_001 = xgb.train(xgb_params, dtrain, num_boost_round=100,\n",
    "                  verbose_eval=5,\n",
    "                  evals=watchlist)"
   ]
  },
  {
   "cell_type": "code",
   "execution_count": 92,
   "metadata": {},
   "outputs": [
    {
     "data": {
      "text/plain": [
       "{'eta=0.3':     num_iter  train_rmse  val_rmse\n",
       " 0          0     3.02752   3.02415\n",
       " 1          5     0.67490   0.67752\n",
       " 2         10     0.43912   0.44981\n",
       " 3         15     0.42259   0.43827\n",
       " 4         20     0.41716   0.43691\n",
       " 5         25     0.41365   0.43621\n",
       " 6         30     0.40712   0.43543\n",
       " 7         35     0.40444   0.43510\n",
       " 8         40     0.40103   0.43466\n",
       " 9         45     0.39723   0.43371\n",
       " 10        50     0.39446   0.43384\n",
       " 11        55     0.39129   0.43378\n",
       " 12        60     0.38743   0.43404\n",
       " 13        65     0.38421   0.43450\n",
       " 14        70     0.38117   0.43467\n",
       " 15        75     0.37801   0.43489\n",
       " 16        80     0.37668   0.43526\n",
       " 17        85     0.37259   0.43537\n",
       " 18        90     0.36998   0.43539\n",
       " 19        95     0.36742   0.43579\n",
       " 20        99     0.36478   0.43621,\n",
       " 'eta=0.1':     num_iter  train_rmse  val_rmse\n",
       " 0          0     3.87217   3.86889\n",
       " 1          5     2.31905   2.31692\n",
       " 2         10     1.41910   1.41786\n",
       " 3         15     0.91299   0.91348\n",
       " 4         20     0.64528   0.64883\n",
       " 5         25     0.51733   0.52364\n",
       " 6         30     0.46186   0.47101\n",
       " 7         35     0.43843   0.44997\n",
       " 8         40     0.42770   0.44150\n",
       " 9         45     0.42222   0.43795\n",
       " 10        50     0.41868   0.43589\n",
       " 11        55     0.41644   0.43515\n",
       " 12        60     0.41432   0.43460\n",
       " 13        65     0.41226   0.43400\n",
       " 14        70     0.41059   0.43361\n",
       " 15        75     0.40876   0.43336\n",
       " 16        80     0.40747   0.43306\n",
       " 17        85     0.40626   0.43299\n",
       " 18        90     0.40478   0.43280\n",
       " 19        95     0.40406   0.43272\n",
       " 20        99     0.40277   0.43250,\n",
       " 'eta=0.01':     num_iter  train_rmse  val_rmse\n",
       " 0          0     4.25336   4.25010\n",
       " 1          5     4.04779   4.04454\n",
       " 2         10     3.85242   3.84921\n",
       " 3         15     3.66674   3.66359\n",
       " 4         20     3.49030   3.48719\n",
       " 5         25     3.32263   3.31956\n",
       " 6         30     3.16332   3.16029\n",
       " 7         35     3.01196   3.00898\n",
       " 8         40     2.86817   2.86533\n",
       " 9         45     2.73158   2.72884\n",
       " 10        50     2.60185   2.59925\n",
       " 11        55     2.47865   2.47612\n",
       " 12        60     2.36167   2.35927\n",
       " 13        65     2.25061   2.24835\n",
       " 14        70     2.14519   2.14303\n",
       " 15        75     2.04514   2.04311\n",
       " 16        80     1.95022   1.94827\n",
       " 17        85     1.86015   1.85833\n",
       " 18        90     1.77472   1.77302\n",
       " 19        95     1.69373   1.69214\n",
       " 20        99     1.63198   1.63045}"
      ]
     },
     "execution_count": 92,
     "metadata": {},
     "output_type": "execute_result"
    }
   ],
   "source": [
    "key = 'eta=%s' % (xgb_params['eta'])\n",
    "scores[key] = parse_xgb_output(output)\n",
    "scores"
   ]
  },
  {
   "cell_type": "code",
   "execution_count": 102,
   "metadata": {},
   "outputs": [
    {
     "data": {
      "text/plain": [
       "<matplotlib.legend.Legend at 0x7fa16b3eb190>"
      ]
     },
     "execution_count": 102,
     "metadata": {},
     "output_type": "execute_result"
    },
    {
     "data": {
      "image/png": "[encoded data removed]",
      "text/plain": [
       "<Figure size 432x288 with 1 Axes>"
      ]
     },
     "metadata": {
      "needs_background": "light"
     },
     "output_type": "display_data"
    }
   ],
   "source": [
    "for eta, df_score in scores.items():\n",
    "    plt.plot(df_score.num_iter, df_score.val_rmse, label=eta)\n",
    "\n",
    "plt.ylim(0.4, 0.5)\n",
    "plt.legend()"
   ]
  },
  {
   "cell_type": "markdown",
   "metadata": {},
   "source": [
    "What's the best eta?\n",
    "\n",
    "* 0.3\n",
    "* **0.1**\n",
    "* 0.01\n",
    "\n",
    "**Answer:** The best eta is 0.1"
   ]
  },
  {
   "cell_type": "markdown",
   "metadata": {},
   "source": [
    "## Submit the results\n",
    "\n",
    "\n",
    "Submit your results here: https://forms.gle/wQgFkYE6CtdDed4w8\n",
    "\n",
    "It's possible that your answers won't match exactly. If it's the case, select the closest one.\n",
    "\n",
    "\n",
    "## Deadline\n",
    "\n",
    "\n",
    "The deadline for submitting is 20 October 2021, 17:00 CET (Wednesday). After that, the form will be closed.\n",
    "\n"
   ]
  }
 ],
 "metadata": {
  "interpreter": {
   "hash": "e20e3b0b51f3143b7c97dbfc5299eec6802759c0a1249a4161be00143a606520"
  },
  "kernelspec": {
   "display_name": "Python 3.8.11 64-bit ('ml-zoomcamp': conda)",
   "name": "python3"
  },
  "language_info": {
   "codemirror_mode": {
    "name": "ipython",
    "version": 3
   },
   "file_extension": ".py",
   "mimetype": "text/x-python",
   "name": "python",
   "nbconvert_exporter": "python",
   "pygments_lexer": "ipython3",
   "version": "3.8.11"
  }
 },
 "nbformat": 4,
 "nbformat_minor": 2
}
