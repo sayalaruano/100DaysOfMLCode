{
 "cells": [
  {
   "cell_type": "markdown",
   "source": [
    "# Homework week 3 Machine Learning Zoomcamp\n",
    "\n",
    "## Author: Sebastián Ayala Ruano \n",
    "\n",
    "## Dataset\n",
    "\n",
    "In this homework, we will continue the New York City Airbnb Open Data. You can take it from\n",
    "[Kaggle](https://www.kaggle.com/dgomonov/new-york-city-airbnb-open-data?select=AB_NYC_2019.csv)\n",
    "or download from [here](https://raw.githubusercontent.com/alexeygrigorev/datasets/master/AB_NYC_2019.csv)\n",
    "if you don't want to sign up to Kaggle.\n",
    "\n",
    "We'll keep working with the `'price'` variable, and we'll transform it to a classification task."
   ],
   "metadata": {}
  },
  {
   "cell_type": "code",
   "execution_count": 252,
   "source": [
    "# Import libraries \n",
    "import pandas as pd\n",
    "import numpy as np\n",
    "from sklearn.linear_model import LogisticRegression\n",
    "from sklearn.linear_model import Ridge\n",
    "from sklearn.feature_extraction import DictVectorizer\n",
    "from sklearn.metrics import mutual_info_score\n",
    "from sklearn.metrics import mean_squared_error\n",
    "from sklearn.model_selection import train_test_split\n",
    "import seaborn as sns\n",
    "from matplotlib import pyplot as plt\n",
    "%matplotlib inline\n",
    "import warnings\n",
    "warnings.filterwarnings(\"ignore\")"
   ],
   "outputs": [],
   "metadata": {}
  },
  {
   "cell_type": "code",
   "execution_count": 138,
   "source": [
    "# Load data \n",
    "df = pd.read_csv(\"../Data/New_York_City_Airbnb_Open_Data.csv\")\n",
    "len(df)"
   ],
   "outputs": [
    {
     "output_type": "execute_result",
     "data": {
      "text/plain": [
       "48895"
      ]
     },
     "metadata": {},
     "execution_count": 138
    }
   ],
   "metadata": {}
  },
  {
   "cell_type": "code",
   "execution_count": 139,
   "source": [
    "# Show the first rows of the data frame \n",
    "df.head().T"
   ],
   "outputs": [
    {
     "output_type": "execute_result",
     "data": {
      "text/plain": [
       "                                                                 0  \\\n",
       "id                                                            2539   \n",
       "name                            Clean & quiet apt home by the park   \n",
       "host_id                                                       2787   \n",
       "host_name                                                     John   \n",
       "neighbourhood_group                                       Brooklyn   \n",
       "neighbourhood                                           Kensington   \n",
       "latitude                                                  40.64749   \n",
       "longitude                                                -73.97237   \n",
       "room_type                                             Private room   \n",
       "price                                                          149   \n",
       "minimum_nights                                                   1   \n",
       "number_of_reviews                                                9   \n",
       "last_review                                             2018-10-19   \n",
       "reviews_per_month                                             0.21   \n",
       "calculated_host_listings_count                                   6   \n",
       "availability_365                                               365   \n",
       "\n",
       "                                                    1  \\\n",
       "id                                               2595   \n",
       "name                            Skylit Midtown Castle   \n",
       "host_id                                          2845   \n",
       "host_name                                    Jennifer   \n",
       "neighbourhood_group                         Manhattan   \n",
       "neighbourhood                                 Midtown   \n",
       "latitude                                     40.75362   \n",
       "longitude                                   -73.98377   \n",
       "room_type                             Entire home/apt   \n",
       "price                                             225   \n",
       "minimum_nights                                      1   \n",
       "number_of_reviews                                  45   \n",
       "last_review                                2019-05-21   \n",
       "reviews_per_month                                0.38   \n",
       "calculated_host_listings_count                      2   \n",
       "availability_365                                  355   \n",
       "\n",
       "                                                                  2  \\\n",
       "id                                                             3647   \n",
       "name                            THE VILLAGE OF HARLEM....NEW YORK !   \n",
       "host_id                                                        4632   \n",
       "host_name                                                 Elisabeth   \n",
       "neighbourhood_group                                       Manhattan   \n",
       "neighbourhood                                                Harlem   \n",
       "latitude                                                   40.80902   \n",
       "longitude                                                  -73.9419   \n",
       "room_type                                              Private room   \n",
       "price                                                           150   \n",
       "minimum_nights                                                    3   \n",
       "number_of_reviews                                                 0   \n",
       "last_review                                                     NaN   \n",
       "reviews_per_month                                               NaN   \n",
       "calculated_host_listings_count                                    1   \n",
       "availability_365                                                365   \n",
       "\n",
       "                                                              3  \\\n",
       "id                                                         3831   \n",
       "name                            Cozy Entire Floor of Brownstone   \n",
       "host_id                                                    4869   \n",
       "host_name                                           LisaRoxanne   \n",
       "neighbourhood_group                                    Brooklyn   \n",
       "neighbourhood                                      Clinton Hill   \n",
       "latitude                                               40.68514   \n",
       "longitude                                             -73.95976   \n",
       "room_type                                       Entire home/apt   \n",
       "price                                                        89   \n",
       "minimum_nights                                                1   \n",
       "number_of_reviews                                           270   \n",
       "last_review                                          2019-07-05   \n",
       "reviews_per_month                                          4.64   \n",
       "calculated_host_listings_count                                1   \n",
       "availability_365                                            194   \n",
       "\n",
       "                                                                               4  \n",
       "id                                                                          5022  \n",
       "name                            Entire Apt: Spacious Studio/Loft by central park  \n",
       "host_id                                                                     7192  \n",
       "host_name                                                                  Laura  \n",
       "neighbourhood_group                                                    Manhattan  \n",
       "neighbourhood                                                        East Harlem  \n",
       "latitude                                                                40.79851  \n",
       "longitude                                                              -73.94399  \n",
       "room_type                                                        Entire home/apt  \n",
       "price                                                                         80  \n",
       "minimum_nights                                                                10  \n",
       "number_of_reviews                                                              9  \n",
       "last_review                                                           2018-11-19  \n",
       "reviews_per_month                                                            0.1  \n",
       "calculated_host_listings_count                                                 1  \n",
       "availability_365                                                               0  "
      ],
      "text/html": [
       "<div>\n",
       "<style scoped>\n",
       "    .dataframe tbody tr th:only-of-type {\n",
       "        vertical-align: middle;\n",
       "    }\n",
       "\n",
       "    .dataframe tbody tr th {\n",
       "        vertical-align: top;\n",
       "    }\n",
       "\n",
       "    .dataframe thead th {\n",
       "        text-align: right;\n",
       "    }\n",
       "</style>\n",
       "<table border=\"1\" class=\"dataframe\">\n",
       "  <thead>\n",
       "    <tr style=\"text-align: right;\">\n",
       "      <th></th>\n",
       "      <th>0</th>\n",
       "      <th>1</th>\n",
       "      <th>2</th>\n",
       "      <th>3</th>\n",
       "      <th>4</th>\n",
       "    </tr>\n",
       "  </thead>\n",
       "  <tbody>\n",
       "    <tr>\n",
       "      <th>id</th>\n",
       "      <td>2539</td>\n",
       "      <td>2595</td>\n",
       "      <td>3647</td>\n",
       "      <td>3831</td>\n",
       "      <td>5022</td>\n",
       "    </tr>\n",
       "    <tr>\n",
       "      <th>name</th>\n",
       "      <td>Clean &amp; quiet apt home by the park</td>\n",
       "      <td>Skylit Midtown Castle</td>\n",
       "      <td>THE VILLAGE OF HARLEM....NEW YORK !</td>\n",
       "      <td>Cozy Entire Floor of Brownstone</td>\n",
       "      <td>Entire Apt: Spacious Studio/Loft by central park</td>\n",
       "    </tr>\n",
       "    <tr>\n",
       "      <th>host_id</th>\n",
       "      <td>2787</td>\n",
       "      <td>2845</td>\n",
       "      <td>4632</td>\n",
       "      <td>4869</td>\n",
       "      <td>7192</td>\n",
       "    </tr>\n",
       "    <tr>\n",
       "      <th>host_name</th>\n",
       "      <td>John</td>\n",
       "      <td>Jennifer</td>\n",
       "      <td>Elisabeth</td>\n",
       "      <td>LisaRoxanne</td>\n",
       "      <td>Laura</td>\n",
       "    </tr>\n",
       "    <tr>\n",
       "      <th>neighbourhood_group</th>\n",
       "      <td>Brooklyn</td>\n",
       "      <td>Manhattan</td>\n",
       "      <td>Manhattan</td>\n",
       "      <td>Brooklyn</td>\n",
       "      <td>Manhattan</td>\n",
       "    </tr>\n",
       "    <tr>\n",
       "      <th>neighbourhood</th>\n",
       "      <td>Kensington</td>\n",
       "      <td>Midtown</td>\n",
       "      <td>Harlem</td>\n",
       "      <td>Clinton Hill</td>\n",
       "      <td>East Harlem</td>\n",
       "    </tr>\n",
       "    <tr>\n",
       "      <th>latitude</th>\n",
       "      <td>40.64749</td>\n",
       "      <td>40.75362</td>\n",
       "      <td>40.80902</td>\n",
       "      <td>40.68514</td>\n",
       "      <td>40.79851</td>\n",
       "    </tr>\n",
       "    <tr>\n",
       "      <th>longitude</th>\n",
       "      <td>-73.97237</td>\n",
       "      <td>-73.98377</td>\n",
       "      <td>-73.9419</td>\n",
       "      <td>-73.95976</td>\n",
       "      <td>-73.94399</td>\n",
       "    </tr>\n",
       "    <tr>\n",
       "      <th>room_type</th>\n",
       "      <td>Private room</td>\n",
       "      <td>Entire home/apt</td>\n",
       "      <td>Private room</td>\n",
       "      <td>Entire home/apt</td>\n",
       "      <td>Entire home/apt</td>\n",
       "    </tr>\n",
       "    <tr>\n",
       "      <th>price</th>\n",
       "      <td>149</td>\n",
       "      <td>225</td>\n",
       "      <td>150</td>\n",
       "      <td>89</td>\n",
       "      <td>80</td>\n",
       "    </tr>\n",
       "    <tr>\n",
       "      <th>minimum_nights</th>\n",
       "      <td>1</td>\n",
       "      <td>1</td>\n",
       "      <td>3</td>\n",
       "      <td>1</td>\n",
       "      <td>10</td>\n",
       "    </tr>\n",
       "    <tr>\n",
       "      <th>number_of_reviews</th>\n",
       "      <td>9</td>\n",
       "      <td>45</td>\n",
       "      <td>0</td>\n",
       "      <td>270</td>\n",
       "      <td>9</td>\n",
       "    </tr>\n",
       "    <tr>\n",
       "      <th>last_review</th>\n",
       "      <td>2018-10-19</td>\n",
       "      <td>2019-05-21</td>\n",
       "      <td>NaN</td>\n",
       "      <td>2019-07-05</td>\n",
       "      <td>2018-11-19</td>\n",
       "    </tr>\n",
       "    <tr>\n",
       "      <th>reviews_per_month</th>\n",
       "      <td>0.21</td>\n",
       "      <td>0.38</td>\n",
       "      <td>NaN</td>\n",
       "      <td>4.64</td>\n",
       "      <td>0.1</td>\n",
       "    </tr>\n",
       "    <tr>\n",
       "      <th>calculated_host_listings_count</th>\n",
       "      <td>6</td>\n",
       "      <td>2</td>\n",
       "      <td>1</td>\n",
       "      <td>1</td>\n",
       "      <td>1</td>\n",
       "    </tr>\n",
       "    <tr>\n",
       "      <th>availability_365</th>\n",
       "      <td>365</td>\n",
       "      <td>355</td>\n",
       "      <td>365</td>\n",
       "      <td>194</td>\n",
       "      <td>0</td>\n",
       "    </tr>\n",
       "  </tbody>\n",
       "</table>\n",
       "</div>"
      ]
     },
     "metadata": {},
     "execution_count": 139
    }
   ],
   "metadata": {}
  },
  {
   "cell_type": "markdown",
   "source": [
    "## Features\n",
    "\n",
    "For the rest of the homework, you'll need to use the features from the previous homework with additional two `'neighbourhood_group'` and `'room_type'`. So the whole feature set will be set as follows:\n",
    "\n",
    "* `'neighbourhood_group'`,\n",
    "* `'room_type'`,\n",
    "* `'latitude'`,\n",
    "* `'longitude'`,\n",
    "* `'price'`,\n",
    "* `'minimum_nights'`,\n",
    "* `'number_of_reviews'`,\n",
    "* `'reviews_per_month'`,\n",
    "* `'calculated_host_listings_count'`,\n",
    "* `'availability_365'`\n",
    "\n",
    "Select only them and fill in the missing values with 0."
   ],
   "metadata": {}
  },
  {
   "cell_type": "code",
   "execution_count": 140,
   "source": [
    "# Select features \n",
    "features = ['neighbourhood_group','room_type','latitude','longitude','price','minimum_nights','number_of_reviews','reviews_per_month','calculated_host_listings_count','availability_365']\n",
    "df = df[features]"
   ],
   "outputs": [],
   "metadata": {}
  },
  {
   "cell_type": "code",
   "execution_count": 141,
   "source": [
    "# Searching features with null values\n",
    "df.isnull().sum()"
   ],
   "outputs": [
    {
     "output_type": "execute_result",
     "data": {
      "text/plain": [
       "neighbourhood_group                   0\n",
       "room_type                             0\n",
       "latitude                              0\n",
       "longitude                             0\n",
       "price                                 0\n",
       "minimum_nights                        0\n",
       "number_of_reviews                     0\n",
       "reviews_per_month                 10052\n",
       "calculated_host_listings_count        0\n",
       "availability_365                      0\n",
       "dtype: int64"
      ]
     },
     "metadata": {},
     "execution_count": 141
    }
   ],
   "metadata": {}
  },
  {
   "cell_type": "code",
   "execution_count": 142,
   "source": [
    "# Replace missing values with 0\n",
    "df['reviews_per_month'] = df.reviews_per_month.fillna(0)\n"
   ],
   "outputs": [],
   "metadata": {}
  },
  {
   "cell_type": "markdown",
   "source": [
    "## Question 1\n",
    "\n",
    "What is the most frequent observation (mode) for the column `'neighbourhood_group'`?"
   ],
   "metadata": {}
  },
  {
   "cell_type": "code",
   "execution_count": 143,
   "source": [
    "df.neighbourhood_group.mode()"
   ],
   "outputs": [
    {
     "output_type": "execute_result",
     "data": {
      "text/plain": [
       "0    Manhattan\n",
       "dtype: object"
      ]
     },
     "metadata": {},
     "execution_count": 143
    }
   ],
   "metadata": {}
  },
  {
   "cell_type": "markdown",
   "source": [
    "**Answer:** The most frequent observation for the column `neighbourhood_group` is **Manhattan**. \n",
    "\n",
    "## Split the data\n",
    "\n",
    "* Split your data in train/val/test sets, with 60%/20%/20% distribution.\n",
    "* Use Scikit-Learn for that (the `train_test_split` function) and set the seed to 42.\n",
    "* Make sure that the target value ('price') is not in your dataframe."
   ],
   "metadata": {}
  },
  {
   "cell_type": "code",
   "execution_count": 144,
   "source": [
    "# Create test and full training partitions \n",
    "df_train_full, df_test = train_test_split(df, test_size=0.2, random_state=42)"
   ],
   "outputs": [],
   "metadata": {}
  },
  {
   "cell_type": "code",
   "execution_count": 145,
   "source": [
    "# # Create train and validation partitions \n",
    "df_train, df_val = train_test_split(df_train_full, test_size=0.25, random_state=42)"
   ],
   "outputs": [],
   "metadata": {}
  },
  {
   "cell_type": "code",
   "execution_count": 146,
   "source": [
    "# Verify the lenght of partitions \n",
    "len(df_train), len(df_val), len(df_test)"
   ],
   "outputs": [
    {
     "output_type": "execute_result",
     "data": {
      "text/plain": [
       "(29337, 9779, 9779)"
      ]
     },
     "metadata": {},
     "execution_count": 146
    }
   ],
   "metadata": {}
  },
  {
   "cell_type": "code",
   "execution_count": 147,
   "source": [
    "# Reset indices of all partitions \n",
    "df_train = df_train.reset_index(drop=True)\n",
    "df_val = df_val.reset_index(drop=True)\n",
    "df_test = df_test.reset_index(drop=True)"
   ],
   "outputs": [],
   "metadata": {}
  },
  {
   "cell_type": "code",
   "execution_count": 148,
   "source": [
    "# Extract target variable of all partitions \n",
    "y_train = df_train.price.values\n",
    "y_val = df_val.price.values\n",
    "y_test = df_test.price.values"
   ],
   "outputs": [],
   "metadata": {}
  },
  {
   "cell_type": "code",
   "execution_count": 149,
   "source": [
    "# Delete target variable for all partitions \n",
    "del df_train['price']\n",
    "del df_val['price']\n",
    "del df_test['price']"
   ],
   "outputs": [],
   "metadata": {}
  },
  {
   "cell_type": "code",
   "execution_count": 150,
   "source": [
    "# Create lists of categorical and numerical features \n",
    "categorical = [\"neighbourhood_group\", \"room_type\"]\n",
    "numerical = ['latitude','longitude', 'minimum_nights','number_of_reviews','reviews_per_month','calculated_host_listings_count','availability_365']"
   ],
   "outputs": [],
   "metadata": {}
  },
  {
   "cell_type": "markdown",
   "source": [
    "## Question 2\n",
    "\n",
    "* Create the [correlation matrix](https://www.google.com/search?q=correlation+matrix) for the numerical features of your train dataset.\n",
    "   * In a correlation matrix, you compute the correlation coefficient between every pair of features in the dataset.\n",
    "* What are the two features that have the biggest correlation in this dataset?"
   ],
   "metadata": {}
  },
  {
   "cell_type": "code",
   "execution_count": 151,
   "source": [
    "# Obtain the correlation matrix \n",
    "corr = df_train.corr()\n",
    "corr.style.background_gradient(cmap='coolwarm').set_precision(2)"
   ],
   "outputs": [
    {
     "output_type": "stream",
     "name": "stderr",
     "text": [
      "/tmp/ipykernel_28082/4253570161.py:3: FutureWarning: this method is deprecated in favour of `Styler.format(precision=..)`\n",
      "  corr.style.background_gradient(cmap='coolwarm').set_precision(2)\n"
     ]
    },
    {
     "output_type": "execute_result",
     "data": {
      "text/plain": [
       "<pandas.io.formats.style.Styler at 0x7f33bd8ab9a0>"
      ],
      "text/html": [
       "<style type=\"text/css\">\n",
       "#T_e090a_row0_col0, #T_e090a_row1_col1, #T_e090a_row2_col2, #T_e090a_row3_col3, #T_e090a_row4_col4, #T_e090a_row5_col5, #T_e090a_row6_col6 {\n",
       "  background-color: #b40426;\n",
       "  color: #f1f1f1;\n",
       "}\n",
       "#T_e090a_row0_col1, #T_e090a_row3_col6, #T_e090a_row6_col1 {\n",
       "  background-color: #7396f5;\n",
       "  color: #f1f1f1;\n",
       "}\n",
       "#T_e090a_row0_col2 {\n",
       "  background-color: #6384eb;\n",
       "  color: #f1f1f1;\n",
       "}\n",
       "#T_e090a_row0_col3, #T_e090a_row5_col4 {\n",
       "  background-color: #4e68d8;\n",
       "  color: #f1f1f1;\n",
       "}\n",
       "#T_e090a_row0_col4 {\n",
       "  background-color: #5977e3;\n",
       "  color: #f1f1f1;\n",
       "}\n",
       "#T_e090a_row0_col5, #T_e090a_row1_col3 {\n",
       "  background-color: #6180e9;\n",
       "  color: #f1f1f1;\n",
       "}\n",
       "#T_e090a_row0_col6, #T_e090a_row1_col5, #T_e090a_row2_col3, #T_e090a_row2_col4, #T_e090a_row3_col0, #T_e090a_row4_col0, #T_e090a_row4_col2, #T_e090a_row5_col1, #T_e090a_row5_col3, #T_e090a_row6_col0 {\n",
       "  background-color: #3b4cc0;\n",
       "  color: #f1f1f1;\n",
       "}\n",
       "#T_e090a_row1_col0, #T_e090a_row1_col6 {\n",
       "  background-color: #5572df;\n",
       "  color: #f1f1f1;\n",
       "}\n",
       "#T_e090a_row1_col2 {\n",
       "  background-color: #4a63d3;\n",
       "  color: #f1f1f1;\n",
       "}\n",
       "#T_e090a_row1_col4, #T_e090a_row5_col6 {\n",
       "  background-color: #85a8fc;\n",
       "  color: #f1f1f1;\n",
       "}\n",
       "#T_e090a_row2_col0 {\n",
       "  background-color: #445acc;\n",
       "  color: #f1f1f1;\n",
       "}\n",
       "#T_e090a_row2_col1 {\n",
       "  background-color: #4961d2;\n",
       "  color: #f1f1f1;\n",
       "}\n",
       "#T_e090a_row2_col5, #T_e090a_row5_col2 {\n",
       "  background-color: #80a3fa;\n",
       "  color: #f1f1f1;\n",
       "}\n",
       "#T_e090a_row2_col6 {\n",
       "  background-color: #6788ee;\n",
       "  color: #f1f1f1;\n",
       "}\n",
       "#T_e090a_row3_col1 {\n",
       "  background-color: #6b8df0;\n",
       "  color: #f1f1f1;\n",
       "}\n",
       "#T_e090a_row3_col2, #T_e090a_row3_col5 {\n",
       "  background-color: #465ecf;\n",
       "  color: #f1f1f1;\n",
       "}\n",
       "#T_e090a_row3_col4 {\n",
       "  background-color: #f5c1a9;\n",
       "  color: #000000;\n",
       "}\n",
       "#T_e090a_row4_col1 {\n",
       "  background-color: #84a7fc;\n",
       "  color: #f1f1f1;\n",
       "}\n",
       "#T_e090a_row4_col3 {\n",
       "  background-color: #f4c6af;\n",
       "  color: #000000;\n",
       "}\n",
       "#T_e090a_row4_col5 {\n",
       "  background-color: #4c66d6;\n",
       "  color: #f1f1f1;\n",
       "}\n",
       "#T_e090a_row4_col6 {\n",
       "  background-color: #7093f3;\n",
       "  color: #f1f1f1;\n",
       "}\n",
       "#T_e090a_row5_col0 {\n",
       "  background-color: #4257c9;\n",
       "  color: #f1f1f1;\n",
       "}\n",
       "#T_e090a_row6_col2, #T_e090a_row6_col3 {\n",
       "  background-color: #86a9fc;\n",
       "  color: #f1f1f1;\n",
       "}\n",
       "#T_e090a_row6_col4 {\n",
       "  background-color: #8fb1fe;\n",
       "  color: #000000;\n",
       "}\n",
       "#T_e090a_row6_col5 {\n",
       "  background-color: #a1c0ff;\n",
       "  color: #000000;\n",
       "}\n",
       "</style>\n",
       "<table id=\"T_e090a_\">\n",
       "  <thead>\n",
       "    <tr>\n",
       "      <th class=\"blank level0\" >&nbsp;</th>\n",
       "      <th class=\"col_heading level0 col0\" >latitude</th>\n",
       "      <th class=\"col_heading level0 col1\" >longitude</th>\n",
       "      <th class=\"col_heading level0 col2\" >minimum_nights</th>\n",
       "      <th class=\"col_heading level0 col3\" >number_of_reviews</th>\n",
       "      <th class=\"col_heading level0 col4\" >reviews_per_month</th>\n",
       "      <th class=\"col_heading level0 col5\" >calculated_host_listings_count</th>\n",
       "      <th class=\"col_heading level0 col6\" >availability_365</th>\n",
       "    </tr>\n",
       "  </thead>\n",
       "  <tbody>\n",
       "    <tr>\n",
       "      <th id=\"T_e090a_level0_row0\" class=\"row_heading level0 row0\" >latitude</th>\n",
       "      <td id=\"T_e090a_row0_col0\" class=\"data row0 col0\" >1.00</td>\n",
       "      <td id=\"T_e090a_row0_col1\" class=\"data row0 col1\" >0.08</td>\n",
       "      <td id=\"T_e090a_row0_col2\" class=\"data row0 col2\" >0.03</td>\n",
       "      <td id=\"T_e090a_row0_col3\" class=\"data row0 col3\" >-0.01</td>\n",
       "      <td id=\"T_e090a_row0_col4\" class=\"data row0 col4\" >-0.01</td>\n",
       "      <td id=\"T_e090a_row0_col5\" class=\"data row0 col5\" >0.02</td>\n",
       "      <td id=\"T_e090a_row0_col6\" class=\"data row0 col6\" >-0.01</td>\n",
       "    </tr>\n",
       "    <tr>\n",
       "      <th id=\"T_e090a_level0_row1\" class=\"row_heading level0 row1\" >longitude</th>\n",
       "      <td id=\"T_e090a_row1_col0\" class=\"data row1 col0\" >0.08</td>\n",
       "      <td id=\"T_e090a_row1_col1\" class=\"data row1 col1\" >1.00</td>\n",
       "      <td id=\"T_e090a_row1_col2\" class=\"data row1 col2\" >-0.06</td>\n",
       "      <td id=\"T_e090a_row1_col3\" class=\"data row1 col3\" >0.06</td>\n",
       "      <td id=\"T_e090a_row1_col4\" class=\"data row1 col4\" >0.13</td>\n",
       "      <td id=\"T_e090a_row1_col5\" class=\"data row1 col5\" >-0.12</td>\n",
       "      <td id=\"T_e090a_row1_col6\" class=\"data row1 col6\" >0.08</td>\n",
       "    </tr>\n",
       "    <tr>\n",
       "      <th id=\"T_e090a_level0_row2\" class=\"row_heading level0 row2\" >minimum_nights</th>\n",
       "      <td id=\"T_e090a_row2_col0\" class=\"data row2 col0\" >0.03</td>\n",
       "      <td id=\"T_e090a_row2_col1\" class=\"data row2 col1\" >-0.06</td>\n",
       "      <td id=\"T_e090a_row2_col2\" class=\"data row2 col2\" >1.00</td>\n",
       "      <td id=\"T_e090a_row2_col3\" class=\"data row2 col3\" >-0.08</td>\n",
       "      <td id=\"T_e090a_row2_col4\" class=\"data row2 col4\" >-0.12</td>\n",
       "      <td id=\"T_e090a_row2_col5\" class=\"data row2 col5\" >0.12</td>\n",
       "      <td id=\"T_e090a_row2_col6\" class=\"data row2 col6\" >0.14</td>\n",
       "    </tr>\n",
       "    <tr>\n",
       "      <th id=\"T_e090a_level0_row3\" class=\"row_heading level0 row3\" >number_of_reviews</th>\n",
       "      <td id=\"T_e090a_row3_col0\" class=\"data row3 col0\" >-0.01</td>\n",
       "      <td id=\"T_e090a_row3_col1\" class=\"data row3 col1\" >0.06</td>\n",
       "      <td id=\"T_e090a_row3_col2\" class=\"data row3 col2\" >-0.08</td>\n",
       "      <td id=\"T_e090a_row3_col3\" class=\"data row3 col3\" >1.00</td>\n",
       "      <td id=\"T_e090a_row3_col4\" class=\"data row3 col4\" >0.59</td>\n",
       "      <td id=\"T_e090a_row3_col5\" class=\"data row3 col5\" >-0.07</td>\n",
       "      <td id=\"T_e090a_row3_col6\" class=\"data row3 col6\" >0.17</td>\n",
       "    </tr>\n",
       "    <tr>\n",
       "      <th id=\"T_e090a_level0_row4\" class=\"row_heading level0 row4\" >reviews_per_month</th>\n",
       "      <td id=\"T_e090a_row4_col0\" class=\"data row4 col0\" >-0.01</td>\n",
       "      <td id=\"T_e090a_row4_col1\" class=\"data row4 col1\" >0.13</td>\n",
       "      <td id=\"T_e090a_row4_col2\" class=\"data row4 col2\" >-0.12</td>\n",
       "      <td id=\"T_e090a_row4_col3\" class=\"data row4 col3\" >0.59</td>\n",
       "      <td id=\"T_e090a_row4_col4\" class=\"data row4 col4\" >1.00</td>\n",
       "      <td id=\"T_e090a_row4_col5\" class=\"data row4 col5\" >-0.05</td>\n",
       "      <td id=\"T_e090a_row4_col6\" class=\"data row4 col6\" >0.17</td>\n",
       "    </tr>\n",
       "    <tr>\n",
       "      <th id=\"T_e090a_level0_row5\" class=\"row_heading level0 row5\" >calculated_host_listings_count</th>\n",
       "      <td id=\"T_e090a_row5_col0\" class=\"data row5 col0\" >0.02</td>\n",
       "      <td id=\"T_e090a_row5_col1\" class=\"data row5 col1\" >-0.12</td>\n",
       "      <td id=\"T_e090a_row5_col2\" class=\"data row5 col2\" >0.12</td>\n",
       "      <td id=\"T_e090a_row5_col3\" class=\"data row5 col3\" >-0.07</td>\n",
       "      <td id=\"T_e090a_row5_col4\" class=\"data row5 col4\" >-0.05</td>\n",
       "      <td id=\"T_e090a_row5_col5\" class=\"data row5 col5\" >1.00</td>\n",
       "      <td id=\"T_e090a_row5_col6\" class=\"data row5 col6\" >0.23</td>\n",
       "    </tr>\n",
       "    <tr>\n",
       "      <th id=\"T_e090a_level0_row6\" class=\"row_heading level0 row6\" >availability_365</th>\n",
       "      <td id=\"T_e090a_row6_col0\" class=\"data row6 col0\" >-0.01</td>\n",
       "      <td id=\"T_e090a_row6_col1\" class=\"data row6 col1\" >0.08</td>\n",
       "      <td id=\"T_e090a_row6_col2\" class=\"data row6 col2\" >0.14</td>\n",
       "      <td id=\"T_e090a_row6_col3\" class=\"data row6 col3\" >0.17</td>\n",
       "      <td id=\"T_e090a_row6_col4\" class=\"data row6 col4\" >0.17</td>\n",
       "      <td id=\"T_e090a_row6_col5\" class=\"data row6 col5\" >0.23</td>\n",
       "      <td id=\"T_e090a_row6_col6\" class=\"data row6 col6\" >1.00</td>\n",
       "    </tr>\n",
       "  </tbody>\n",
       "</table>\n"
      ]
     },
     "metadata": {},
     "execution_count": 151
    }
   ],
   "metadata": {}
  },
  {
   "cell_type": "markdown",
   "source": [
    "**Answer:** The features that have the biggest correlation in this dataset are `reviews_per_month` and `number_of_reviews`."
   ],
   "metadata": {}
  },
  {
   "cell_type": "markdown",
   "source": [
    "## Make price binary\n",
    "\n",
    "* We need to turn the price variable from numeric into binary.\n",
    "* Let's create a variable `above_average` which is `1` if the price is above (or equal to) `152`."
   ],
   "metadata": {}
  },
  {
   "cell_type": "code",
   "execution_count": 218,
   "source": [
    "# Obtain binarized prices for all datasets \n",
    "bin_price_val = (y_val >= 152).astype(int)\n",
    "bin_price_train = (y_train >= 152).astype(int)\n",
    "bin_price_test = (y_test >= 152).astype(int)"
   ],
   "outputs": [],
   "metadata": {}
  },
  {
   "cell_type": "markdown",
   "source": [
    "## Question 3\n",
    "\n",
    "* Calculate the mutual information score with the (binarized) price for the two categorical variables that we have. Use the training set only.\n",
    "* Which of these two variables has bigger score?\n",
    "* Round it to 2 decimal digits using `round(score, 2)`"
   ],
   "metadata": {}
  },
  {
   "cell_type": "code",
   "execution_count": 208,
   "source": [
    "# Mutual information between categorical features and binary target variable\n",
    "def calculate_mi(series):\n",
    "    return round(mutual_info_score(series, bin_price_train),2)\n",
    "\n",
    "df_mi = df_train[categorical].apply(calculate_mi)\n",
    "df_mi = df_mi.sort_values(ascending=False).to_frame(name='MI')\n",
    "df_mi"
   ],
   "outputs": [
    {
     "output_type": "execute_result",
     "data": {
      "text/plain": [
       "                       MI\n",
       "room_type            0.14\n",
       "neighbourhood_group  0.05"
      ],
      "text/html": [
       "<div>\n",
       "<style scoped>\n",
       "    .dataframe tbody tr th:only-of-type {\n",
       "        vertical-align: middle;\n",
       "    }\n",
       "\n",
       "    .dataframe tbody tr th {\n",
       "        vertical-align: top;\n",
       "    }\n",
       "\n",
       "    .dataframe thead th {\n",
       "        text-align: right;\n",
       "    }\n",
       "</style>\n",
       "<table border=\"1\" class=\"dataframe\">\n",
       "  <thead>\n",
       "    <tr style=\"text-align: right;\">\n",
       "      <th></th>\n",
       "      <th>MI</th>\n",
       "    </tr>\n",
       "  </thead>\n",
       "  <tbody>\n",
       "    <tr>\n",
       "      <th>room_type</th>\n",
       "      <td>0.14</td>\n",
       "    </tr>\n",
       "    <tr>\n",
       "      <th>neighbourhood_group</th>\n",
       "      <td>0.05</td>\n",
       "    </tr>\n",
       "  </tbody>\n",
       "</table>\n",
       "</div>"
      ]
     },
     "metadata": {},
     "execution_count": 208
    }
   ],
   "metadata": {}
  },
  {
   "cell_type": "markdown",
   "source": [
    "**Answer:** `room_type` variable has the bigger mutual information score. \n",
    "\n",
    "## Question 4\n",
    "\n",
    "* Now let's train a logistic regression\n",
    "* Remember that we have two categorical variables in the data. Include them using one-hot encoding.\n",
    "* Fit the model on the training dataset.\n",
    "   * To make sure the results are reproducible across different versions of Scikit-Learn, fit the model with these parameters:\n",
    "   * `model = LogisticRegression(solver='lbfgs', C=1.0, random_state=42)`\n",
    "* Calculate the accuracy on the validation dataset and rount it to 2 decimal digits."
   ],
   "metadata": {}
  },
  {
   "cell_type": "code",
   "execution_count": 225,
   "source": [
    "# Create dictionaries of the training data to apply one-hot enconding on categorical fatures \n",
    "train_dict = df_train.to_dict(orient='records')"
   ],
   "outputs": [],
   "metadata": {}
  },
  {
   "cell_type": "code",
   "execution_count": 226,
   "source": [
    "# Create feature matrix with numerical and one-hot encoded categorical variables\n",
    "dv = DictVectorizer()\n",
    "X_train = dv.fit_transform(train_dict)"
   ],
   "outputs": [],
   "metadata": {}
  },
  {
   "cell_type": "code",
   "execution_count": 227,
   "source": [
    "# Fit and train logistic regression model \n",
    "model = LogisticRegression(solver='liblinear', C=1.0, random_state=42, max_iter=500)\n",
    "model.fit(X_train, bin_price_train)"
   ],
   "outputs": [
    {
     "output_type": "execute_result",
     "data": {
      "text/plain": [
       "LogisticRegression(max_iter=500, random_state=42, solver='liblinear')"
      ]
     },
     "metadata": {},
     "execution_count": 227
    }
   ],
   "metadata": {}
  },
  {
   "cell_type": "code",
   "execution_count": 228,
   "source": [
    "# Create feature matrix of validation partition \n",
    "val_dict = df_val.to_dict(orient='records')\n",
    "X_val = dv.fit_transform(val_dict)"
   ],
   "outputs": [],
   "metadata": {}
  },
  {
   "cell_type": "code",
   "execution_count": 229,
   "source": [
    "# Make predictions on the validation dataset \n",
    "y_pred = model.predict_proba(X_val)[:, 1]"
   ],
   "outputs": [],
   "metadata": {}
  },
  {
   "cell_type": "code",
   "execution_count": 230,
   "source": [
    "# Define a threshold to calculate the accuracy \n",
    "sell_cutoff = (y_pred >= 0.5)"
   ],
   "outputs": [],
   "metadata": {}
  },
  {
   "cell_type": "code",
   "execution_count": 231,
   "source": [
    "# Obtain accuracy \n",
    "orig_accuracy = round((bin_price_val == sell_cutoff).mean(),2)\n",
    "print(orig_accuracy)"
   ],
   "outputs": [
    {
     "output_type": "stream",
     "name": "stdout",
     "text": [
      "0.79\n"
     ]
    }
   ],
   "metadata": {}
  },
  {
   "cell_type": "markdown",
   "source": [
    "**Answer:** The accuracy on the validation dataset was **0.79**. \n",
    "\n",
    "## Question 5\n",
    "\n",
    "* We have 9 features: 7 numerical features and 2 categorical.\n",
    "* Let's find the least useful one using the *feature elimination* technique.\n",
    "* Train a model with all these features (using the same parameters as in Q4).\n",
    "* Now exclude each feature from this set and train a model without it. Record the accuracy for each model.\n",
    "* For each feature, calculate the difference between the original accuracy and the accuracy without the feature. \n",
    "* Which of following feature has the smallest difference? \n",
    "   * `neighbourhood_group`\n",
    "   * `room_type` \n",
    "   * `number_of_reviews`\n",
    "   * `reviews_per_month`\n",
    "\n",
    "> **note**: the difference doesn't have to be positive"
   ],
   "metadata": {}
  },
  {
   "cell_type": "code",
   "execution_count": 250,
   "source": [
    "small_features = [\"neighbourhood_group\", \"room_type\", \"number_of_reviews\", \"reviews_per_month\"]\n",
    "for i in small_features:\n",
    "    df_train_temp = df_train.drop(i, 1)\n",
    "    train_dict_temp = df_train_temp.to_dict(orient='records')\n",
    "    dv_temp = DictVectorizer()\n",
    "    X_train_temp = dv_temp.fit_transform(train_dict_temp)\n",
    "    \n",
    "    model.fit(X_train_temp, bin_price_train)\n",
    "    \n",
    "    df_val_temp = df_val.drop(i, 1)\n",
    "    val_dict_temp = df_val_temp.to_dict(orient='records')\n",
    "    X_val_temp = dv_temp.fit_transform(val_dict_temp)\n",
    "\n",
    "    y_pred_temp = model.predict_proba(X_val_temp)[:, 1]\n",
    "\n",
    "    sell_cutoff_temp = (y_pred_temp >= 0.5)\n",
    "\n",
    "    acc_temp = (bin_price_val == sell_cutoff_temp).mean()\n",
    "\n",
    "    diff_acc = abs(orig_accuracy - acc_temp)\n",
    "\n",
    "    print(f'Accuracy difference between LogReg model with all features and without {i} feature: {diff_acc}')\n"
   ],
   "outputs": [
    {
     "output_type": "stream",
     "name": "stdout",
     "text": [
      "Accuracy difference between LogReg model with all features and without neighbourhood_group feature: 0.040127824930974554\n",
      "Accuracy difference between LogReg model with all features and without room_type feature: 0.06129563350035794\n",
      "Accuracy difference between LogReg model with all features and without number_of_reviews feature: 0.0013897126495551193\n",
      "Accuracy difference between LogReg model with all features and without reviews_per_month feature: 0.0007761529808774092\n"
     ]
    }
   ],
   "metadata": {}
  },
  {
   "cell_type": "markdown",
   "source": [
    "**Answer:** The feature `reviews_per_month` has the smallest difference with the original accuracy. \n",
    "\n",
    "## Question 6\n",
    "\n",
    "* For this question, we'll see how to use a linear regression model from Scikit-Learn\n",
    "* We'll need to use the original column `'price'`. Apply the logarithmic transformation to this column.\n",
    "* Fit the Ridge regression model on the training data.\n",
    "* This model has a parameter `alpha`. Let's try the following values: `[0, 0.01, 0.1, 1, 10]`\n",
    "* Which of these alphas leads to the best RMSE on the validation set? Round your RMSE scores to 3 decimal digits.\n",
    "\n",
    "If there are multiple options, select the smallest `alpha`."
   ],
   "metadata": {}
  },
  {
   "cell_type": "code",
   "execution_count": 256,
   "source": [
    "# Log normalization of target variable from all partitions \n",
    "y_train_log = np.log1p(y_train)\n",
    "y_val_log = np.log1p(y_val)\n",
    "y_test_log = np.log1p(y_test)"
   ],
   "outputs": [],
   "metadata": {}
  },
  {
   "cell_type": "code",
   "execution_count": 268,
   "source": [
    "alphas = [0, 0.01, 0.1, 1, 10]\n",
    "\n",
    "for i in alphas:\n",
    "    ridge_model_temp = Ridge(alpha=i)\n",
    "    ridge_model_temp.fit(X_train, y_train_log)\n",
    "    ridge_predictions = ridge_model_temp.predict(X_val)\n",
    "\n",
    "    rootMeanSquaredError = np.sqrt(mean_squared_error(y_val_log, ridge_predictions))\n",
    "\n",
    "    print(f'RMSE of ridge regression with alpha {i}: {round(rootMeanSquaredError, 3)}')"
   ],
   "outputs": [
    {
     "output_type": "stream",
     "name": "stdout",
     "text": [
      "RMSE of ridge regression with alpha 0: 0.506\n",
      "RMSE of ridge regression with alpha 0.01: 0.506\n",
      "RMSE of ridge regression with alpha 0.1: 0.506\n",
      "RMSE of ridge regression with alpha 1: 0.506\n",
      "RMSE of ridge regression with alpha 10: 0.506\n"
     ]
    }
   ],
   "metadata": {}
  },
  {
   "cell_type": "markdown",
   "source": [
    "**Answer:** The best RMSE on the validation set with the smallest alpha is **0.01**"
   ],
   "metadata": {}
  }
 ],
 "metadata": {
  "kernelspec": {
   "name": "python3",
   "display_name": "Python 3.8.11 64-bit ('ml-zoomcamp': conda)"
  },
  "language_info": {
   "codemirror_mode": {
    "name": "ipython",
    "version": 3
   },
   "file_extension": ".py",
   "mimetype": "text/x-python",
   "name": "python",
   "nbconvert_exporter": "python",
   "pygments_lexer": "ipython3",
   "version": "3.8.11"
  },
  "interpreter": {
   "hash": "9c4b7840e13856d2735a41138e93d3e336dc9e38b373d9ec90803d578baab378"
  }
 },
 "nbformat": 4,
 "nbformat_minor": 4
}